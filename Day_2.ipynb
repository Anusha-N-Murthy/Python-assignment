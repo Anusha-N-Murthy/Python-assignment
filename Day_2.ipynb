{
  "nbformat": 4,
  "nbformat_minor": 0,
  "metadata": {
    "colab": {
      "name": "Day 2.ipynb",
      "provenance": [],
      "collapsed_sections": []
    },
    "kernelspec": {
      "name": "python3",
      "display_name": "Python 3"
    }
  },
  "cells": [
    {
      "cell_type": "markdown",
      "metadata": {
        "id": "he2uweirR1R1"
      },
      "source": [
        "**Question 1**\r\n",
        " **: Functions of string**"
      ]
    },
    {
      "cell_type": "code",
      "metadata": {
        "colab": {
          "base_uri": "https://localhost:8080/",
          "height": 35
        },
        "id": "fspZnR5JNZW-",
        "outputId": "3c112d1f-71ae-4b1e-954d-b890c1193b28"
      },
      "source": [
        "name = \"anusha\"\r\n",
        "name.capitalize()"
      ],
      "execution_count": 2,
      "outputs": [
        {
          "output_type": "execute_result",
          "data": {
            "application/vnd.google.colaboratory.intrinsic+json": {
              "type": "string"
            },
            "text/plain": [
              "'Anusha'"
            ]
          },
          "metadata": {
            "tags": []
          },
          "execution_count": 2
        }
      ]
    },
    {
      "cell_type": "code",
      "metadata": {
        "colab": {
          "base_uri": "https://localhost:8080/",
          "height": 35
        },
        "id": "Dk4_xNdQO4WG",
        "outputId": "57a163ae-3a07-4438-e6b4-e27a75333417"
      },
      "source": [
        "name = \"ANUSHA\"\r\n",
        "name.lower()"
      ],
      "execution_count": 5,
      "outputs": [
        {
          "output_type": "execute_result",
          "data": {
            "application/vnd.google.colaboratory.intrinsic+json": {
              "type": "string"
            },
            "text/plain": [
              "'anusha'"
            ]
          },
          "metadata": {
            "tags": []
          },
          "execution_count": 5
        }
      ]
    },
    {
      "cell_type": "code",
      "metadata": {
        "colab": {
          "base_uri": "https://localhost:8080/",
          "height": 35
        },
        "id": "O1bq_CwsPSDu",
        "outputId": "d004f007-09b3-477c-b42e-06b43cd79a55"
      },
      "source": [
        "name = \"anusha\"\r\n",
        "name.upper()\r\n"
      ],
      "execution_count": 4,
      "outputs": [
        {
          "output_type": "execute_result",
          "data": {
            "application/vnd.google.colaboratory.intrinsic+json": {
              "type": "string"
            },
            "text/plain": [
              "'ANUSHA'"
            ]
          },
          "metadata": {
            "tags": []
          },
          "execution_count": 4
        }
      ]
    },
    {
      "cell_type": "code",
      "metadata": {
        "colab": {
          "base_uri": "https://localhost:8080/"
        },
        "id": "Y7vv1CF8QI2D",
        "outputId": "bd09f3fd-005b-4f82-dbc1-2a89b41f02a2"
      },
      "source": [
        "name = \"Anusha\"\r\n",
        "name.index(\"s\")"
      ],
      "execution_count": 12,
      "outputs": [
        {
          "output_type": "execute_result",
          "data": {
            "text/plain": [
              "3"
            ]
          },
          "metadata": {
            "tags": []
          },
          "execution_count": 12
        }
      ]
    },
    {
      "cell_type": "code",
      "metadata": {
        "colab": {
          "base_uri": "https://localhost:8080/"
        },
        "id": "f4_ZxshDQ5y6",
        "outputId": "a859352c-93dd-4b95-f537-cbd8501c7b25"
      },
      "source": [
        "name = \"anusha\"\r\n",
        "name.count(\"a\")\r\n"
      ],
      "execution_count": 11,
      "outputs": [
        {
          "output_type": "execute_result",
          "data": {
            "text/plain": [
              "2"
            ]
          },
          "metadata": {
            "tags": []
          },
          "execution_count": 11
        }
      ]
    },
    {
      "cell_type": "markdown",
      "metadata": {
        "id": "Sb83oYhJjO2Q"
      },
      "source": [
        "**Question 2 : Functions of list object**"
      ]
    },
    {
      "cell_type": "code",
      "metadata": {
        "colab": {
          "base_uri": "https://localhost:8080/"
        },
        "id": "sgeW0BuwjWyM",
        "outputId": "250d6ba8-be9d-430c-f53f-b439993e902e"
      },
      "source": [
        "fruits = [\"apple\", \"banana\", \"cherry\"]\r\n",
        "\r\n",
        "fruits.append(\"orange\")\r\n",
        "\r\n",
        "print(fruits)\r\n"
      ],
      "execution_count": 15,
      "outputs": [
        {
          "output_type": "stream",
          "text": [
            "['apple', 'banana', 'cherry', 'orange']\n"
          ],
          "name": "stdout"
        }
      ]
    },
    {
      "cell_type": "code",
      "metadata": {
        "colab": {
          "base_uri": "https://localhost:8080/"
        },
        "id": "uUEInL3AkM_L",
        "outputId": "e0063263-2fbf-4755-aea2-de2325c7da5c"
      },
      "source": [
        "fruits = ['apple', 'banana', 'cherry']\r\n",
        "\r\n",
        "fruits.pop(1)\r\n",
        "\r\n",
        "print(fruits)"
      ],
      "execution_count": 16,
      "outputs": [
        {
          "output_type": "stream",
          "text": [
            "['apple', 'cherry']\n"
          ],
          "name": "stdout"
        }
      ]
    },
    {
      "cell_type": "code",
      "metadata": {
        "colab": {
          "base_uri": "https://localhost:8080/"
        },
        "id": "oFi9aOx3kmWJ",
        "outputId": "58348c83-0c9f-45a9-8628-c852bc42cfe6"
      },
      "source": [
        "fruits = ['apple', 'banana', 'cherry']\r\n",
        "\r\n",
        "x = fruits.index(\"cherry\")\r\n",
        "\r\n",
        "print(x)"
      ],
      "execution_count": 17,
      "outputs": [
        {
          "output_type": "stream",
          "text": [
            "2\n"
          ],
          "name": "stdout"
        }
      ]
    },
    {
      "cell_type": "code",
      "metadata": {
        "colab": {
          "base_uri": "https://localhost:8080/"
        },
        "id": "YN1IDUCQk1wv",
        "outputId": "fcfebd6f-99f9-4e1e-e704-18779fa16644"
      },
      "source": [
        "cars = ['Ford', 'BMW', 'Volvo']\r\n",
        "\r\n",
        "cars.sort()\r\n",
        "\r\n",
        "print(cars)\r\n"
      ],
      "execution_count": 18,
      "outputs": [
        {
          "output_type": "stream",
          "text": [
            "['BMW', 'Ford', 'Volvo']\n"
          ],
          "name": "stdout"
        }
      ]
    },
    {
      "cell_type": "code",
      "metadata": {
        "colab": {
          "base_uri": "https://localhost:8080/"
        },
        "id": "MixZkZwTlCa2",
        "outputId": "8bcc191c-966c-4176-e4ad-137553d46b49"
      },
      "source": [
        "fruits = ['apple', 'banana', 'cherry']\r\n",
        "\r\n",
        "fruits.reverse()\r\n",
        "\r\n",
        "print(fruits)\r\n"
      ],
      "execution_count": 19,
      "outputs": [
        {
          "output_type": "stream",
          "text": [
            "['cherry', 'banana', 'apple']\n"
          ],
          "name": "stdout"
        }
      ]
    },
    {
      "cell_type": "markdown",
      "metadata": {
        "id": "TG0NCYjClVWh"
      },
      "source": [
        "**Question 3 : Functions of dictionary**"
      ]
    },
    {
      "cell_type": "code",
      "metadata": {
        "colab": {
          "base_uri": "https://localhost:8080/"
        },
        "id": "_fs22SeQlmTj",
        "outputId": "2f83bec3-439d-4bcf-fd75-77841f220d53"
      },
      "source": [
        "car = {\r\n",
        "  \"brand\": \"Ford\",\r\n",
        "  \"model\": \"Mustang\",\r\n",
        "  \"year\": 1964\r\n",
        "}\r\n",
        "\r\n",
        "x = car.items()\r\n",
        "\r\n",
        "print(x)"
      ],
      "execution_count": 20,
      "outputs": [
        {
          "output_type": "stream",
          "text": [
            "dict_items([('brand', 'Ford'), ('model', 'Mustang'), ('year', 1964)])\n"
          ],
          "name": "stdout"
        }
      ]
    },
    {
      "cell_type": "code",
      "metadata": {
        "colab": {
          "base_uri": "https://localhost:8080/"
        },
        "id": "K9meITH2l5Rt",
        "outputId": "1cee9fc7-2fe7-46a0-852d-16b99c4beec8"
      },
      "source": [
        "car = {\r\n",
        "  \"brand\": \"Ford\",\r\n",
        "  \"model\": \"Mustang\",\r\n",
        "  \"year\": 1964\r\n",
        "}\r\n",
        "\r\n",
        "x = car.get(\"model\")\r\n",
        "\r\n",
        "print(x)"
      ],
      "execution_count": 21,
      "outputs": [
        {
          "output_type": "stream",
          "text": [
            "Mustang\n"
          ],
          "name": "stdout"
        }
      ]
    },
    {
      "cell_type": "code",
      "metadata": {
        "colab": {
          "base_uri": "https://localhost:8080/"
        },
        "id": "hmPfNyKDmpPJ",
        "outputId": "888f55ee-6fa8-47bb-9eb3-11c8d8ea4f97"
      },
      "source": [
        "car = {\r\n",
        "  \"brand\": \"Ford\",\r\n",
        "  \"model\": \"Mustang\",\r\n",
        "  \"year\": 1964\r\n",
        "}\r\n",
        "\r\n",
        "car.update({\"color\": \"White\"})\r\n",
        "\r\n",
        "print(car)"
      ],
      "execution_count": 23,
      "outputs": [
        {
          "output_type": "stream",
          "text": [
            "{'brand': 'Ford', 'model': 'Mustang', 'year': 1964, 'color': 'White'}\n"
          ],
          "name": "stdout"
        }
      ]
    },
    {
      "cell_type": "code",
      "metadata": {
        "colab": {
          "base_uri": "https://localhost:8080/"
        },
        "id": "vyx_WWUBmRqn",
        "outputId": "1401bc42-9370-4e57-803d-81a74a73e91c"
      },
      "source": [
        "car = {\r\n",
        "  \"brand\": \"Ford\",\r\n",
        "  \"model\": \"Mustang\",\r\n",
        "  \"year\": 1964\r\n",
        "}\r\n",
        "\r\n",
        "car.pop(\"model\")\r\n",
        "\r\n",
        "print(car)"
      ],
      "execution_count": 22,
      "outputs": [
        {
          "output_type": "stream",
          "text": [
            "{'brand': 'Ford', 'year': 1964}\n"
          ],
          "name": "stdout"
        }
      ]
    },
    {
      "cell_type": "code",
      "metadata": {
        "colab": {
          "base_uri": "https://localhost:8080/"
        },
        "id": "NeyJLLeAm6gN",
        "outputId": "08aa7b98-2f31-40ee-adc2-ff8f5104d82a"
      },
      "source": [
        "car = {\r\n",
        "  \"brand\": \"Ford\",\r\n",
        "  \"model\": \"Mustang\",\r\n",
        "  \"year\": 1964\r\n",
        "}\r\n",
        "\r\n",
        "x = car.setdefault(\"model\", \"Bronco\")\r\n",
        "\r\n",
        "print(x)\r\n"
      ],
      "execution_count": 24,
      "outputs": [
        {
          "output_type": "stream",
          "text": [
            "Mustang\n"
          ],
          "name": "stdout"
        }
      ]
    }
  ]
}