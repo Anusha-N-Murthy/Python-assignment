{
  "nbformat": 4,
  "nbformat_minor": 0,
  "metadata": {
    "colab": {
      "name": "Day 3.ipynb",
      "provenance": [],
      "collapsed_sections": []
    },
    "kernelspec": {
      "name": "python3",
      "display_name": "Python 3"
    }
  },
  "cells": [
    {
      "cell_type": "markdown",
      "metadata": {
        "id": "CtpFNL1sDTia"
      },
      "source": [
        "**Question 1 : Use IF ELSE and ELIF  to write a program in python for your report card**"
      ]
    },
    {
      "cell_type": "code",
      "metadata": {
        "colab": {
          "base_uri": "https://localhost:8080/"
        },
        "id": "zqbdv-w5sY2E",
        "outputId": "bf753ea1-d952-416f-9381-b9cec9193a5c"
      },
      "source": [
        "sub1=int(input(\"Enter marks of the first subject: \"))\r\n",
        "sub2=int(input(\"Enter marks of the second subject: \"))\r\n",
        "sub3=int(input(\"Enter marks of the third subject: \"))\r\n",
        "sub4=int(input(\"Enter marks of the fourth subject: \"))\r\n",
        "sub5=int(input(\"Enter marks of the fifth subject: \"))\r\n",
        "avg=(sub1+sub2+sub3+sub4+sub4)/5\r\n",
        "if(avg>=90):\r\n",
        "    print(\"Grade: A\")\r\n",
        "elif(avg>=80&avg<90):\r\n",
        "    print(\"Grade: B\")\r\n",
        "elif(avg>=70&avg<80):\r\n",
        "    print(\"Grade: C\")\r\n",
        "elif(avg>=60&avg<70):\r\n",
        "    print(\"Grade: D\")\r\n",
        "else:\r\n",
        "    print(\"Grade: F\")"
      ],
      "execution_count": 7,
      "outputs": [
        {
          "output_type": "stream",
          "text": [
            "Enter marks of the first subject: 85\n",
            "Enter marks of the second subject: 95\n",
            "Enter marks of the third subject: 99\n",
            "Enter marks of the fourth subject: 93\n",
            "Enter marks of the fifth subject: 100\n",
            "Grade: A\n"
          ],
          "name": "stdout"
        }
      ]
    },
    {
      "cell_type": "markdown",
      "metadata": {
        "id": "JfysrPbcENv8"
      },
      "source": [
        "**Question 2 : Use For Loop to print prime numbers in between 1 to 1000**"
      ]
    },
    {
      "cell_type": "code",
      "metadata": {
        "colab": {
          "base_uri": "https://localhost:8080/"
        },
        "id": "vViRhbwsEdhl",
        "outputId": "3a361aab-72ad-411e-fa85-b5b6efbd3cf2"
      },
      "source": [
        "j=0 \r\n",
        "for var in range(2,1001): \r\n",
        "    for i in range(2,var): \r\n",
        "        if((var%i)==0): \r\n",
        "            break \r\n",
        "    else: \r\n",
        "        j+=1 \r\n",
        "        print(var) \r\n",
        "print(\"No of Prime No's:\",j) "
      ],
      "execution_count": 9,
      "outputs": [
        {
          "output_type": "stream",
          "text": [
            "2\n",
            "3\n",
            "5\n",
            "7\n",
            "11\n",
            "13\n",
            "17\n",
            "19\n",
            "23\n",
            "29\n",
            "31\n",
            "37\n",
            "41\n",
            "43\n",
            "47\n",
            "53\n",
            "59\n",
            "61\n",
            "67\n",
            "71\n",
            "73\n",
            "79\n",
            "83\n",
            "89\n",
            "97\n",
            "101\n",
            "103\n",
            "107\n",
            "109\n",
            "113\n",
            "127\n",
            "131\n",
            "137\n",
            "139\n",
            "149\n",
            "151\n",
            "157\n",
            "163\n",
            "167\n",
            "173\n",
            "179\n",
            "181\n",
            "191\n",
            "193\n",
            "197\n",
            "199\n",
            "211\n",
            "223\n",
            "227\n",
            "229\n",
            "233\n",
            "239\n",
            "241\n",
            "251\n",
            "257\n",
            "263\n",
            "269\n",
            "271\n",
            "277\n",
            "281\n",
            "283\n",
            "293\n",
            "307\n",
            "311\n",
            "313\n",
            "317\n",
            "331\n",
            "337\n",
            "347\n",
            "349\n",
            "353\n",
            "359\n",
            "367\n",
            "373\n",
            "379\n",
            "383\n",
            "389\n",
            "397\n",
            "401\n",
            "409\n",
            "419\n",
            "421\n",
            "431\n",
            "433\n",
            "439\n",
            "443\n",
            "449\n",
            "457\n",
            "461\n",
            "463\n",
            "467\n",
            "479\n",
            "487\n",
            "491\n",
            "499\n",
            "503\n",
            "509\n",
            "521\n",
            "523\n",
            "541\n",
            "547\n",
            "557\n",
            "563\n",
            "569\n",
            "571\n",
            "577\n",
            "587\n",
            "593\n",
            "599\n",
            "601\n",
            "607\n",
            "613\n",
            "617\n",
            "619\n",
            "631\n",
            "641\n",
            "643\n",
            "647\n",
            "653\n",
            "659\n",
            "661\n",
            "673\n",
            "677\n",
            "683\n",
            "691\n",
            "701\n",
            "709\n",
            "719\n",
            "727\n",
            "733\n",
            "739\n",
            "743\n",
            "751\n",
            "757\n",
            "761\n",
            "769\n",
            "773\n",
            "787\n",
            "797\n",
            "809\n",
            "811\n",
            "821\n",
            "823\n",
            "827\n",
            "829\n",
            "839\n",
            "853\n",
            "857\n",
            "859\n",
            "863\n",
            "877\n",
            "881\n",
            "883\n",
            "887\n",
            "907\n",
            "911\n",
            "919\n",
            "929\n",
            "937\n",
            "941\n",
            "947\n",
            "953\n",
            "967\n",
            "971\n",
            "977\n",
            "983\n",
            "991\n",
            "997\n",
            "No of Prime No's: 168\n"
          ],
          "name": "stdout"
        }
      ]
    },
    {
      "cell_type": "markdown",
      "metadata": {
        "id": "eA6OCbSnFzhi"
      },
      "source": [
        "**Question 3 : Write a program for printing the tables from 1,10 using nested For loop**"
      ]
    },
    {
      "cell_type": "code",
      "metadata": {
        "colab": {
          "base_uri": "https://localhost:8080/"
        },
        "id": "Dae_rjvwGBnL",
        "outputId": "549583db-4fd6-460d-b9ce-3f5e0bb538be"
      },
      "source": [
        "for i in range(1,11):\r\n",
        "   for j in range(1,11):\r\n",
        "      k = i*j\r\n",
        "      print (k, end=' ')\r\n",
        "   print()"
      ],
      "execution_count": 12,
      "outputs": [
        {
          "output_type": "stream",
          "text": [
            "1 2 3 4 5 6 7 8 9 10 \n",
            "2 4 6 8 10 12 14 16 18 20 \n",
            "3 6 9 12 15 18 21 24 27 30 \n",
            "4 8 12 16 20 24 28 32 36 40 \n",
            "5 10 15 20 25 30 35 40 45 50 \n",
            "6 12 18 24 30 36 42 48 54 60 \n",
            "7 14 21 28 35 42 49 56 63 70 \n",
            "8 16 24 32 40 48 56 64 72 80 \n",
            "9 18 27 36 45 54 63 72 81 90 \n",
            "10 20 30 40 50 60 70 80 90 100 \n"
          ],
          "name": "stdout"
        }
      ]
    },
    {
      "cell_type": "markdown",
      "metadata": {
        "id": "aFq3M6gVHqRE"
      },
      "source": [
        "**Question 4 : Write a program to print X prime numbers using while loop starting from 0 and take the input of X from the user**"
      ]
    },
    {
      "cell_type": "code",
      "metadata": {
        "colab": {
          "base_uri": "https://localhost:8080/"
        },
        "id": "lUxk5hIfI1uE",
        "outputId": "6ac3a10d-7a6e-4733-e032-6ed4f618ac31"
      },
      "source": [
        "X = int(input(\" Enter the value for X: \"))\r\n",
        "count = 0\r\n",
        "i = 2\r\n",
        "\r\n",
        "while(i <= X//2):\r\n",
        "    if(X % i == 0):\r\n",
        "        count = count + 1\r\n",
        "        break\r\n",
        "    i = i + 1\r\n",
        "\r\n",
        "if (count == 0 and X != 1):\r\n",
        "    print(\" %d is a Prime Number\" %X)\r\n",
        "else:\r\n",
        "    print(\" %d is not a Prime Number\" %X)"
      ],
      "execution_count": 16,
      "outputs": [
        {
          "output_type": "stream",
          "text": [
            " Enter the value for X: 2\n",
            " 2 is a Prime Number\n"
          ],
          "name": "stdout"
        }
      ]
    }
  ]
}