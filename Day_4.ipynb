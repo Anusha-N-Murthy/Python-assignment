{
  "nbformat": 4,
  "nbformat_minor": 0,
  "metadata": {
    "colab": {
      "name": "Day 4.ipynb",
      "provenance": [],
      "collapsed_sections": []
    },
    "kernelspec": {
      "name": "python3",
      "display_name": "Python 3"
    }
  },
  "cells": [
    {
      "cell_type": "markdown",
      "metadata": {
        "id": "gGeyyHAlPRTu"
      },
      "source": [
        "**Question 1** "
      ]
    },
    {
      "cell_type": "code",
      "metadata": {
        "colab": {
          "base_uri": "https://localhost:8080/"
        },
        "id": "Lb5d8nlEOmJ2",
        "outputId": "fb1eb435-997a-4329-e0ef-93e5523cf683"
      },
      "source": [
        "file = open('myfile.txt','w') \r\n",
        "file.write(\"I Love LetsUpgrade\") \r\n",
        "file.close()\r\n",
        "file = open('myfile.txt', 'r')\r\n",
        "print (file.read())\r\n",
        "file = open(\"myfile.txt\", \"a\")  \r\n",
        "file.write(\"Today \\n\") \r\n",
        "file.close() \r\n",
        "   "
      ],
      "execution_count": 3,
      "outputs": [
        {
          "output_type": "stream",
          "text": [
            "I Love LetsUpgrade\n"
          ],
          "name": "stdout"
        }
      ]
    },
    {
      "cell_type": "markdown",
      "metadata": {
        "id": "CGsycqULRO--"
      },
      "source": [
        "**Question 2**"
      ]
    },
    {
      "cell_type": "code",
      "metadata": {
        "colab": {
          "base_uri": "https://localhost:8080/"
        },
        "id": "FLy9_Kz5R5o4",
        "outputId": "6c440382-bd96-4d81-f742-dfb0841bae2a"
      },
      "source": [
        "def factorial(n):\r\n",
        "    if n == 0:\r\n",
        "        return 1\r\n",
        "    else:\r\n",
        "        return n * factorial(n-1)\r\n",
        "n=int(input(\"Input a number to compute the factiorial : \"))\r\n",
        "print(factorial(n))"
      ],
      "execution_count": 4,
      "outputs": [
        {
          "output_type": "stream",
          "text": [
            "Input a number to compute the factiorial : 4\n",
            "24\n"
          ],
          "name": "stdout"
        }
      ]
    }
  ]
}